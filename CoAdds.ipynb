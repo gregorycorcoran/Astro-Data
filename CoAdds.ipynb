{
 "cells": [
  {
   "cell_type": "code",
   "execution_count": 9,
   "metadata": {},
   "outputs": [],
   "source": [
    "import numpy as np\n",
    "import matplotlib.pyplot as plt\n",
    "from astropy.io import fits\n",
    "from glob import glob\n",
    "plt.rcParams[\"figure.figsize\"] = (13,8)"
   ]
  },
  {
   "cell_type": "code",
   "execution_count": 10,
   "metadata": {},
   "outputs": [
    {
     "name": "stdout",
     "output_type": "stream",
     "text": [
      "['./Processed/MCG05', './Processed/MCG06', './Processed/NGC3016', './Processed/NGC3705', './Processed/NGC6365A', './Processed/NVSSJ09', './Processed/UGC9374']\n"
     ]
    }
   ],
   "source": [
    "objects=glob('./Processed/*')\n",
    "print(objects)"
   ]
  },
  {
   "cell_type": "code",
   "execution_count": 11,
   "metadata": {},
   "outputs": [
    {
     "name": "stdout",
     "output_type": "stream",
     "text": [
      "['./Processed/MCG05/ucdA_0418.fits', './Processed/MCG05/ucdA_0419.fits', './Processed/MCG05/ucdA_0420.fits', './Processed/MCG05/ucdA_0421.fits', './Processed/MCG05/ucdA_0422.fits', './Processed/MCG05/ucdA_0423.fits', './Processed/MCG05/ucdA_0424.fits', './Processed/MCG05/ucdA_0425.fits', './Processed/MCG05/ucdA_0426.fits', './Processed/MCG05/ucdA_0427.fits', './Processed/MCG05/ucdA_0428.fits', './Processed/MCG05/ucdA_0429.fits']\n"
     ]
    }
   ],
   "source": [
    "ims=glob(objects[0]+'/*.fits')\n",
    "print(ims)"
   ]
  },
  {
   "cell_type": "code",
   "execution_count": 12,
   "metadata": {},
   "outputs": [
    {
     "name": "stdout",
     "output_type": "stream",
     "text": [
      "MCG05\n",
      "MCG06\n",
      "NGC3016\n",
      "NGC3705\n",
      "NGC6365A\n",
      "NVSSJ09\n",
      "UGC9374\n"
     ]
    }
   ],
   "source": [
    "for obj in objects:\n",
    "    obj_name=obj.split('/')[-1]\n",
    "    print(obj_name)\n",
    "    ims=glob(obj+'/*.fits')\n",
    "    R=[]\n",
    "    B=[]\n",
    "    V=[]\n",
    "    for im in ims:\n",
    "        data=fits.open(im)[0].data\n",
    "        hdr=fits.open(im)[0].header\n",
    "        if hdr['FILTER']=='B':\n",
    "            B.append(data)\n",
    "            B_hdr=hdr\n",
    "        elif hdr['FILTER']=='V':\n",
    "            V.append(data)\n",
    "            V_hdr=hdr\n",
    "        elif hdr['FILTER']=='R':\n",
    "            R.append(data)\n",
    "            R_hdr=hdr\n",
    "    R_coadd=np.median(R,axis=0)*np.sqrt(len(R))\n",
    "    B_coadd=np.median(B,axis=0)*np.sqrt(len(B))\n",
    "    V_coadd=np.median(V,axis=0)*np.sqrt(len(V))\n",
    "    R_hdu=fits.PrimaryHDU(data=R_coadd,header=R_hdr)\n",
    "    R_hdu.writeto('./CoAdds/'+obj_name+'/R.fits',overwrite='True')\n",
    "    B_hdu=fits.PrimaryHDU(data=B_coadd,header=B_hdr)\n",
    "    B_hdu.writeto('./CoAdds/'+obj_name+'/B.fits',overwrite='True')\n",
    "    V_hdu=fits.PrimaryHDU(data=B_coadd,header=V_hdr)\n",
    "    V_hdu.writeto('./CoAdds/'+obj_name+'/V.fits',overwrite='True')\n"
   ]
  }
 ],
 "metadata": {
  "kernelspec": {
   "display_name": "prospect",
   "language": "python",
   "name": "python3"
  },
  "language_info": {
   "codemirror_mode": {
    "name": "ipython",
    "version": 3
   },
   "file_extension": ".py",
   "mimetype": "text/x-python",
   "name": "python",
   "nbconvert_exporter": "python",
   "pygments_lexer": "ipython3",
   "version": "3.12.1"
  }
 },
 "nbformat": 4,
 "nbformat_minor": 2
}
